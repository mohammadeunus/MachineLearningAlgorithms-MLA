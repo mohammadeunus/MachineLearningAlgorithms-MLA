{
  "nbformat": 4,
  "nbformat_minor": 0,
  "metadata": {
    "colab": {
      "name": "06. iris dataset and PDF.ipynb",
      "provenance": [],
      "collapsed_sections": [],
      "authorship_tag": "ABX9TyMSVwnv31sE5fR2pSpXwMKy",
      "include_colab_link": true
    },
    "kernelspec": {
      "name": "python3",
      "display_name": "Python 3"
    },
    "language_info": {
      "name": "python"
    }
  },
  "cells": [
    {
      "cell_type": "markdown",
      "metadata": {
        "id": "view-in-github",
        "colab_type": "text"
      },
      "source": [
        "<a href=\"https://colab.research.google.com/github/mohammadeunus/MachineLearningAlgorithms-MLA/blob/main/06_iris_dataset_and_PDF.ipynb\" target=\"_parent\"><img src=\"https://colab.research.google.com/assets/colab-badge.svg\" alt=\"Open In Colab\"/></a>"
      ]
    },
    {
      "cell_type": "code",
      "metadata": {
        "id": "00HhOodv49sz"
      },
      "source": [
        "# import libraries\n",
        "import numpy as np\n",
        "import pandas as pd\n",
        "from sklearn import datasets\n",
        "from sklearn.model_selection import train_test_split\n",
        "from sklearn.metrics import accuracy_score"
      ],
      "execution_count": 136,
      "outputs": []
    },
    {
      "cell_type": "code",
      "metadata": {
        "id": "c2J2tvRBDQg1"
      },
      "source": [
        "# load dataset and split the features and class lables\n",
        "\n",
        "iris = datasets.load_iris()\n",
        "\n",
        "x= pd.DataFrame(iris.data, columns=['Sepal Length', 'Sepal Width', 'Petal Length', 'Petal Width']) \n",
        "y=iris.target # 0  is setosa, 1 is  versica and 2 is vergenica\n",
        "\n",
        "print(x['Sepal Length'])"
      ],
      "execution_count": null,
      "outputs": []
    },
    {
      "cell_type": "code",
      "metadata": {
        "id": "Ka8rB8ItPEug"
      },
      "source": [
        "#use 60% data of satosa(first 50 data) for x_train_setosa and the rest for x_test_setosa\n",
        "x_train_setosa,x_test_setosa,y_train_setosa,y_test_setosa=train_test_split(x['Sepal Length'][:50],y[:50],test_size=0.4)\n",
        "\n",
        "#mean and standard deviation calculation\n",
        "x_train_setosa_mean=x_train_setosa.mean()\n",
        "x_train_setosa_std=x_train_setosa.std()"
      ],
      "execution_count": 138,
      "outputs": []
    },
    {
      "cell_type": "code",
      "metadata": {
        "colab": {
          "base_uri": "https://localhost:8080/"
        },
        "id": "9DwoTrNSTYal",
        "outputId": "d6e04607-a767-4973-ad6f-0b0a91e1a77b"
      },
      "source": [
        "#assuming 32% of the data as outlier;  (100-68) = 32%;   1standard deviation \n",
        "minimum=x_train_setosa_mean-1*x_train_setosa_std                                #1standard deviation                     \n",
        "maximum=x_train_setosa_mean+1*x_train_setosa_std                                #1standard deviation\n",
        "print(minimum,maximum)\n",
        "\n",
        "#calculate the shape of test dataset of setosa (for accuracy calculation)  \n",
        "shapeOf_x_test_setosa=x_test_setosa.shape[0] \n",
        "shapeOf_x_test_setosa"
      ],
      "execution_count": 135,
      "outputs": [
        {
          "output_type": "stream",
          "text": [
            "4.630470942769136 5.369529057230864\n"
          ],
          "name": "stdout"
        },
        {
          "output_type": "execute_result",
          "data": {
            "text/plain": [
              "20"
            ]
          },
          "metadata": {},
          "execution_count": 135
        }
      ]
    },
    {
      "cell_type": "code",
      "metadata": {
        "colab": {
          "base_uri": "https://localhost:8080/"
        },
        "id": "a0d4zoMkq7q7",
        "outputId": "a5e32741-0601-4368-d641-039f79cdf31b"
      },
      "source": [
        "#assign the data which fits the model of x_train_setosa's normal distribution\n",
        "df = x_test_setosa.to_frame()\n",
        "no_oulier= df[(df.values>minimum) & (df.values<maximum)]\n",
        "\n",
        "#calculate the shape of final result(for accuracy calculation)\n",
        "shapeOf_no_oulier=no_oulier.shape[0]\n",
        "print(shapeOf_no_oulier)"
      ],
      "execution_count": 139,
      "outputs": [
        {
          "output_type": "stream",
          "text": [
            "14\n"
          ],
          "name": "stdout"
        }
      ]
    },
    {
      "cell_type": "code",
      "metadata": {
        "colab": {
          "base_uri": "https://localhost:8080/"
        },
        "id": "M_61IwzBwHF6",
        "outputId": "6f0b1bca-0042-4e21-ebb9-f700d9d0194b"
      },
      "source": [
        "#calculate the accuracy in percentage\n",
        "ans=shapeOf_no_oulier/shapeOf_x_train_setosa*100\n",
        "print('accuracy is: ',ans,'%')    #the accuracy is calculated based on 1 standard deviation, because for 2,3 the accuracy was showing 100percent"
      ],
      "execution_count": 140,
      "outputs": [
        {
          "output_type": "stream",
          "text": [
            "accuracy is:  70.0 %\n"
          ],
          "name": "stdout"
        }
      ]
    }
  ]
}