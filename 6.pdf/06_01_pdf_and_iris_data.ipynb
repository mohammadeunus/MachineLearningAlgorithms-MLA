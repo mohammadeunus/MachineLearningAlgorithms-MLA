{
  "nbformat": 4,
  "nbformat_minor": 0,
  "metadata": {
    "colab": {
      "name": "06.01 pdf  and iris data ",
      "provenance": [],
      "authorship_tag": "ABX9TyMnNK1PFK2Z+zLG04AlpfIs",
      "include_colab_link": true
    },
    "kernelspec": {
      "name": "python3",
      "display_name": "Python 3"
    },
    "language_info": {
      "name": "python"
    }
  },
  "cells": [
    {
      "cell_type": "markdown",
      "metadata": {
        "id": "view-in-github",
        "colab_type": "text"
      },
      "source": [
        "<a href=\"https://colab.research.google.com/github/mohammadeunus/MachineLearningAlgorithms-MLA/blob/main/06_01_pdf_and_iris_data.ipynb\" target=\"_parent\"><img src=\"https://colab.research.google.com/assets/colab-badge.svg\" alt=\"Open In Colab\"/></a>"
      ]
    },
    {
      "cell_type": "code",
      "metadata": {
        "id": "KVWTa91jvOtT"
      },
      "source": [
        "from sklearn import datasets\n",
        "import math\n",
        "\n",
        "import pandas as pd\n",
        "from sklearn.model_selection import train_test_split\n",
        "from sklearn.metrics import accuracy_score"
      ],
      "execution_count": 155,
      "outputs": []
    },
    {
      "cell_type": "code",
      "metadata": {
        "id": "12NzOPNDvYfA"
      },
      "source": [
        "def pdf(x, mean, sd):\n",
        "  prob_density=(1/(math.sqrt(2*3.14159)*sd))* math.exp(-0.5*((x - mean)/sd)**2)\n",
        "  return prob_density"
      ],
      "execution_count": 156,
      "outputs": []
    },
    {
      "cell_type": "code",
      "metadata": {
        "id": "PzgR3zIPwB4x"
      },
      "source": [
        "iris= datasets.load_iris()\n",
        "\n",
        "x= pd.DataFrame(iris.data, columns=['Sepal Length', 'Sepal Width', 'Petal Length', 'Petal Width']) \n",
        "y=iris.target # 0  is setosa, 1 is  Versica and 2 is Vergenica"
      ],
      "execution_count": 157,
      "outputs": []
    },
    {
      "cell_type": "code",
      "metadata": {
        "id": "YDw7fzGQwQZx"
      },
      "source": [
        "#use 60% data of satosa(first 50 data of x) for x_train_setosa and the rest for x_test_setosa\n",
        "trainSetosaLen,testSetosLen,ignore ,target1 =train_test_split(x['Sepal Length'][:50],y[:50],test_size=0.4)\n",
        "trainVersicaLen,testVersicaLen,ignore ,target2 =train_test_split(x['Sepal Length'][50:100],y[50:100],test_size=0.4)\n",
        "trainVergenicaLen,testVergenicaLen,ignore ,target3 =train_test_split(x['Sepal Length'][100:150],y[100:150],test_size=0.4)\n"
      ],
      "execution_count": 158,
      "outputs": []
    },
    {
      "cell_type": "code",
      "metadata": {
        "colab": {
          "base_uri": "https://localhost:8080/"
        },
        "id": "VAiJJeKawVHR",
        "outputId": "4bf7f9ea-59a0-447a-fc05-294e5e193154"
      },
      "source": [
        "print(list(trainSetosaLen))\n",
        "print(list(trainVersicaLen))\n",
        "print(list(trainVergenicaLen))\n",
        "\n",
        "targetSet=list(target1)+list(target2)+list(target3)\n",
        "\n",
        "testSet=list(testSetosLen)+list(testVersicaLen)+list(testVergenicaLen)\n",
        "len(testSet)"
      ],
      "execution_count": 159,
      "outputs": [
        {
          "output_type": "stream",
          "text": [
            "[5.1, 4.8, 5.0, 4.7, 5.0, 4.8, 5.5, 5.4, 4.4, 5.1, 5.2, 4.5, 5.0, 4.9, 4.6, 4.6, 4.8, 4.7, 5.0, 5.1, 5.0, 5.1, 5.7, 4.8, 4.9, 5.4, 5.2, 5.8, 5.4, 4.4]\n",
            "[5.0, 6.0, 6.6, 5.7, 5.9, 5.0, 5.6, 5.5, 5.7, 6.7, 6.8, 6.1, 6.0, 6.2, 6.3, 6.4, 6.1, 6.1, 5.8, 6.5, 4.9, 5.8, 5.4, 6.6, 5.5, 6.3, 5.5, 5.9, 6.4, 6.0]\n",
            "[6.9, 6.7, 5.8, 6.4, 5.7, 7.3, 6.7, 6.1, 6.1, 6.8, 6.0, 6.9, 6.0, 6.4, 6.7, 7.1, 6.7, 7.2, 6.8, 7.4, 6.4, 7.6, 6.4, 6.7, 6.5, 4.9, 6.5, 7.7, 7.2, 6.3]\n"
          ],
          "name": "stdout"
        },
        {
          "output_type": "execute_result",
          "data": {
            "text/plain": [
              "60"
            ]
          },
          "metadata": {},
          "execution_count": 159
        }
      ]
    },
    {
      "cell_type": "code",
      "metadata": {
        "id": "eVH5uosqwVTj"
      },
      "source": [
        "#mean and standard deviation calculation\n",
        "meanSetosa=trainSetosaLen.mean()\n",
        "stdSetosa=trainSetosaLen.std()\n",
        "\n",
        "meanVersica=trainVersicaLen.mean()\n",
        "stdVersica=trainVersicaLen.std()\n",
        "\n",
        "meanVergenica=trainVergenicaLen.mean()\n",
        "stdVergenica=trainVergenicaLen.std()\n"
      ],
      "execution_count": 160,
      "outputs": []
    },
    {
      "cell_type": "code",
      "metadata": {
        "id": "5AN1MZDkwVcB"
      },
      "source": [
        "testSetPDF=list()\n",
        "prediction=list()\n",
        "for item in testSet:\n",
        "  setosaPDF = pdf(item,meanSetosa,stdSetosa)\n",
        "  VersicaPDF = pdf(item,meanVersica,stdVersica)\n",
        "  vergenicaPDF = pdf(item,meanVergenica,stdVergenica)\n",
        "  testSetPDF=([setosaPDF,VersicaPDF,vergenicaPDF])\n",
        "  prediction.append(testSetPDF.index(max(setosaPDF,VersicaPDF,vergenicaPDF)))\n"
      ],
      "execution_count": 161,
      "outputs": []
    },
    {
      "cell_type": "code",
      "metadata": {
        "colab": {
          "base_uri": "https://localhost:8080/"
        },
        "id": "SFS2ANPV0mpg",
        "outputId": "165a8040-65c6-4e3b-80c9-b24ed40e8141"
      },
      "source": [
        "print('length of the test set: ',len(prediction))\n",
        "print(prediction)\n",
        "print(targetSet)"
      ],
      "execution_count": 162,
      "outputs": [
        {
          "output_type": "stream",
          "text": [
            "length of the test set:  60\n",
            "[0, 0, 0, 1, 0, 0, 0, 0, 0, 0, 0, 0, 0, 0, 0, 0, 0, 0, 0, 1, 1, 0, 0, 1, 2, 2, 1, 1, 2, 1, 1, 1, 1, 2, 1, 1, 1, 1, 1, 1, 2, 2, 2, 1, 2, 1, 1, 2, 1, 2, 1, 1, 1, 1, 2, 1, 1, 2, 2, 1]\n",
            "[0, 0, 0, 0, 0, 0, 0, 0, 0, 0, 0, 0, 0, 0, 0, 0, 0, 0, 0, 0, 1, 1, 1, 1, 1, 1, 1, 1, 1, 1, 1, 1, 1, 1, 1, 1, 1, 1, 1, 1, 2, 2, 2, 2, 2, 2, 2, 2, 2, 2, 2, 2, 2, 2, 2, 2, 2, 2, 2, 2]\n"
          ],
          "name": "stdout"
        }
      ]
    },
    {
      "cell_type": "code",
      "metadata": {
        "colab": {
          "base_uri": "https://localhost:8080/"
        },
        "id": "vUIVy7HM0mmK",
        "outputId": "ce04ff9a-3b27-40df-b6fa-715f99fc565c"
      },
      "source": [
        "print('the accuracy is: ',accuracy_score(targetSet,prediction))"
      ],
      "execution_count": 163,
      "outputs": [
        {
          "output_type": "stream",
          "text": [
            "the accuracy is:  0.6833333333333333\n"
          ],
          "name": "stdout"
        }
      ]
    },
    {
      "cell_type": "code",
      "metadata": {
        "id": "TGIvL-fN0mg5"
      },
      "source": [
        ""
      ],
      "execution_count": 163,
      "outputs": []
    },
    {
      "cell_type": "code",
      "metadata": {
        "id": "ok5gJ-Zf0mAR"
      },
      "source": [
        ""
      ],
      "execution_count": 163,
      "outputs": []
    }
  ]
}