{
 "cells": [
  {
   "cell_type": "code",
   "execution_count": 1,
   "metadata": {},
   "outputs": [],
   "source": [
    "import string\n",
    "import numpy as np"
   ]
  },
  {
   "cell_type": "code",
   "execution_count": 2,
   "metadata": {},
   "outputs": [],
   "source": [
    "#user input   \n",
    "#https://www.sportingnews.com/us/soccer/news/mens-olympic-soccer-quarterfinals-complete-schedule-knockout/1kyrr7htoumy81qlhhcr4qvgs3\n",
    "SentenceSoccer = (open(\"soccer.txt\", \"r\")).read()\n",
    "#https://www.marca.com/en/olympic-games/2021/07/28/6101247c22601db74c8b4574.html\n",
    "SentenceTennis =(open(\"tennis.txt\", \"r\")).read()\n",
    "#https://www.golfchannel.com/news/bryson-dechambeaus-former-caddie-opens-split-what-experience-was\n",
    "SentenceGolf =(open(\"golf.txt\", \"r\")).read()"
   ]
  },
  {
   "cell_type": "code",
   "execution_count": 3,
   "metadata": {},
   "outputs": [],
   "source": [
    "#first replace all the capital letter in user string with small letter than\n",
    "#strip punctions from the string and assign that string into the FinalSentence\n",
    "FinalSentenceSoccer = SentenceSoccer.lower()   \n",
    "FinalSentenceSoccer = FinalSentenceSoccer.translate(str.maketrans(' ', ' ', string.punctuation))\n",
    "\n",
    "FinalSentenceTennis = SentenceTennis.lower()   \n",
    "FinalSentenceTennis = FinalSentenceTennis.translate(str.maketrans(' ', ' ', string.punctuation))\n",
    "\n",
    "FinalSentenceGolf = SentenceGolf.lower()   \n",
    "FinalSentenceGolf =FinalSentenceGolf.translate(str.maketrans(' ', ' ', string.punctuation))\n",
    " \n",
    "# split all the word of the string in a new list listt\n",
    "listSoccer = FinalSentenceSoccer.split()\n",
    "listTennis = FinalSentenceTennis.split()\n",
    "listGolf = FinalSentenceGolf.split()\n",
    "\n",
    "allUniqueWord = np.unique(listSoccer+listTennis+listGolf)\n",
    "\n",
    "\n",
    "# Declare a dictionary\n",
    "dictionarySoccer = dict(zip(allUniqueWord,[0]*len(allUniqueWord)))\n",
    "dictionaryTennis = dict(zip(allUniqueWord,[0]*len(allUniqueWord)))\n",
    "dictionaryGolf = dict(zip(allUniqueWord,[0]*len(allUniqueWord)))"
   ]
  },
  {
   "cell_type": "code",
   "execution_count": 4,
   "metadata": {},
   "outputs": [
    {
     "name": "stdout",
     "output_type": "stream",
     "text": [
      "['playing', 'with', '10', 'men', 'for', 'most', 'of', 'the', 'gameâ', 'brazilâ', 'held', 'theâ', 'ivory', 'coastâ', 'to', 'a', '00', 'draw', 'on', 'sunday', 'in', 'the', 'group', 'stage', 'of', 'theâ', 'men39s', 'olympic', 'football', 'tournament', 'brazil', 'are', 'the', 'defending', 'olympic', 'champion', 'after', 'winning', 'on', 'home', 'soil', 'at', 'the', '2016', 'rio', 'de', 'janeiro', 'games', 'but', 'the', 'brazilians', 'were', 'at', 'a', 'disadvantage', 'early', 'whenâ', 'douglas', 'luiz', 'who', 'plays', 'forâ', 'aston', 'villa', 'was', 'sent', 'off', 'in', 'the', '13th', 'minute']\n",
      "\n",
      "['tokyo', 'â€”', 'it39s', 'a', 'stunning', 'upset', 'for', 'the', 'world39s', 'topranked', 'female', 'tennis', 'player', 'australia39s', 'ash', 'barty', 'was', 'a', 'favorite', 'to', 'win', 'gold', 'in', 'women39s', 'singles', 'tennis', 'but', 'underdog', 'sara', 'sorribes', 'tormo', 'from', 'spain', 'beat', 'her', 'in', 'straight', 'sets', 'in', 'the', 'first', 'round', 'of', 'olympic', 'competition', 'in', 'tokyo', 'barty', 'won', 'wimbledon', 'just', 'two', 'weeks', 'ago']\n",
      "\n",
      "['bryson', 'dechambeauâ', 'andâ', 'jon', 'rahmâ', 'are', 'out', 'of', 'the', 'olympic', 'golf', 'tournament', 'after', 'both', 'tested', 'positive', 'for', 'covid19', 'dechambeau', '27', 'will', 'be', 'replaced', 'byâ', 'patrick', 'reedâ', 'on', 'the', 'us', 'team', 'according', 'to', 'statements', 'released', 'saturday', 'night', 'by', 'the', 'international', 'golf', 'federation', 'and', 'usa', 'golf', 'dechambeau', 'tested', 'positive', 'as', 'part', 'of', 'the', 'final', 'testing', 'protocols', 'before', 'leaving', 'the', 'united', 'states', 'for', 'japan']\n",
      "\n",
      "total number of word before unique implementation:  186\n",
      "total number of word after unique implementation:  137\n"
     ]
    }
   ],
   "source": [
    "print(listSoccer)\n",
    "print()\n",
    "print(listTennis)\n",
    "print()\n",
    "print(listGolf)\n",
    "print()\n",
    "print('total number of word before unique implementation: ',len(listSoccer)+len(listTennis)+len(listGolf))\n",
    "print('total number of word after unique implementation: ',len(allUniqueWord))  "
   ]
  },
  {
   "cell_type": "code",
   "execution_count": 5,
   "metadata": {},
   "outputs": [],
   "source": [
    "for elements in listSoccer:\n",
    "  # if there exists a key as \"elements\" then simply\n",
    "    # increase its value.\n",
    "    if elements in dictionarySoccer:\n",
    "        dictionarySoccer[elements] += 1\n",
    "for elements in listTennis:\n",
    "  # if there exists a key as \"elements\" then simply\n",
    "    # increase its value.\n",
    "    if elements in dictionaryTennis:\n",
    "        dictionaryTennis[elements] += 1\n",
    "\n",
    "for elements in listGolf:\n",
    "  # if there exists a key as \"elements\" then simply\n",
    "    # increase its value.\n",
    "    if elements in dictionaryGolf:\n",
    "        dictionaryGolf[elements] += 1"
   ]
  },
  {
   "cell_type": "code",
   "execution_count": 6,
   "metadata": {},
   "outputs": [
    {
     "name": "stdout",
     "output_type": "stream",
     "text": [
      "{'00': 1, '10': 1, '13th': 1, '2016': 1, '27': 0, 'a': 2, 'according': 0, 'after': 1, 'ago': 0, 'and': 0, 'andâ': 0, 'are': 1, 'as': 0, 'ash': 0, 'aston': 1, 'at': 2, 'australia39s': 0, 'barty': 0, 'be': 0, 'beat': 0, 'before': 0, 'both': 0, 'brazil': 1, 'brazilians': 1, 'brazilâ': 1, 'bryson': 0, 'but': 1, 'by': 0, 'byâ': 0, 'champion': 1, 'coastâ': 1, 'competition': 0, 'covid19': 0, 'de': 1, 'dechambeau': 0, 'dechambeauâ': 0, 'defending': 1, 'disadvantage': 1, 'douglas': 1, 'draw': 1, 'early': 1, 'favorite': 0, 'federation': 0, 'female': 0, 'final': 0, 'first': 0, 'football': 1, 'for': 1, 'forâ': 1, 'from': 0, 'games': 1, 'gameâ': 1, 'gold': 0, 'golf': 0, 'group': 1, 'held': 1, 'her': 0, 'home': 1, 'in': 2, 'international': 0, 'it39s': 0, 'ivory': 1, 'janeiro': 1, 'japan': 0, 'jon': 0, 'just': 0, 'leaving': 0, 'luiz': 1, 'men': 1, 'men39s': 1, 'minute': 1, 'most': 1, 'night': 0, 'of': 2, 'off': 1, 'olympic': 2, 'on': 2, 'out': 0, 'part': 0, 'patrick': 0, 'player': 0, 'playing': 1, 'plays': 1, 'positive': 0, 'protocols': 0, 'rahmâ': 0, 'reedâ': 0, 'released': 0, 'replaced': 0, 'rio': 1, 'round': 0, 'sara': 0, 'saturday': 0, 'sent': 1, 'sets': 0, 'singles': 0, 'soil': 1, 'sorribes': 0, 'spain': 0, 'stage': 1, 'statements': 0, 'states': 0, 'straight': 0, 'stunning': 0, 'sunday': 1, 'team': 0, 'tennis': 0, 'tested': 0, 'testing': 0, 'the': 6, 'theâ': 2, 'to': 1, 'tokyo': 0, 'topranked': 0, 'tormo': 0, 'tournament': 1, 'two': 0, 'underdog': 0, 'united': 0, 'upset': 0, 'us': 0, 'usa': 0, 'villa': 1, 'was': 1, 'weeks': 0, 'were': 1, 'whenâ': 1, 'who': 1, 'will': 0, 'wimbledon': 0, 'win': 0, 'winning': 1, 'with': 1, 'women39s': 0, 'won': 0, 'world39s': 0, 'â€”': 0}\n",
      "\n",
      "{'00': 0, '10': 0, '13th': 0, '2016': 0, '27': 0, 'a': 2, 'according': 0, 'after': 0, 'ago': 1, 'and': 0, 'andâ': 0, 'are': 0, 'as': 0, 'ash': 1, 'aston': 0, 'at': 0, 'australia39s': 1, 'barty': 2, 'be': 0, 'beat': 1, 'before': 0, 'both': 0, 'brazil': 0, 'brazilians': 0, 'brazilâ': 0, 'bryson': 0, 'but': 1, 'by': 0, 'byâ': 0, 'champion': 0, 'coastâ': 0, 'competition': 1, 'covid19': 0, 'de': 0, 'dechambeau': 0, 'dechambeauâ': 0, 'defending': 0, 'disadvantage': 0, 'douglas': 0, 'draw': 0, 'early': 0, 'favorite': 1, 'federation': 0, 'female': 1, 'final': 0, 'first': 1, 'football': 0, 'for': 1, 'forâ': 0, 'from': 1, 'games': 0, 'gameâ': 0, 'gold': 1, 'golf': 0, 'group': 0, 'held': 0, 'her': 1, 'home': 0, 'in': 4, 'international': 0, 'it39s': 1, 'ivory': 0, 'janeiro': 0, 'japan': 0, 'jon': 0, 'just': 1, 'leaving': 0, 'luiz': 0, 'men': 0, 'men39s': 0, 'minute': 0, 'most': 0, 'night': 0, 'of': 1, 'off': 0, 'olympic': 1, 'on': 0, 'out': 0, 'part': 0, 'patrick': 0, 'player': 1, 'playing': 0, 'plays': 0, 'positive': 0, 'protocols': 0, 'rahmâ': 0, 'reedâ': 0, 'released': 0, 'replaced': 0, 'rio': 0, 'round': 1, 'sara': 1, 'saturday': 0, 'sent': 0, 'sets': 1, 'singles': 1, 'soil': 0, 'sorribes': 1, 'spain': 1, 'stage': 0, 'statements': 0, 'states': 0, 'straight': 1, 'stunning': 1, 'sunday': 0, 'team': 0, 'tennis': 2, 'tested': 0, 'testing': 0, 'the': 2, 'theâ': 0, 'to': 1, 'tokyo': 2, 'topranked': 1, 'tormo': 1, 'tournament': 0, 'two': 1, 'underdog': 1, 'united': 0, 'upset': 1, 'us': 0, 'usa': 0, 'villa': 0, 'was': 1, 'weeks': 1, 'were': 0, 'whenâ': 0, 'who': 0, 'will': 0, 'wimbledon': 1, 'win': 1, 'winning': 0, 'with': 0, 'women39s': 1, 'won': 1, 'world39s': 1, 'â€”': 1}\n",
      "\n",
      "{'00': 0, '10': 0, '13th': 0, '2016': 0, '27': 1, 'a': 0, 'according': 1, 'after': 1, 'ago': 0, 'and': 1, 'andâ': 1, 'are': 1, 'as': 1, 'ash': 0, 'aston': 0, 'at': 0, 'australia39s': 0, 'barty': 0, 'be': 1, 'beat': 0, 'before': 1, 'both': 1, 'brazil': 0, 'brazilians': 0, 'brazilâ': 0, 'bryson': 1, 'but': 0, 'by': 1, 'byâ': 1, 'champion': 0, 'coastâ': 0, 'competition': 0, 'covid19': 1, 'de': 0, 'dechambeau': 2, 'dechambeauâ': 1, 'defending': 0, 'disadvantage': 0, 'douglas': 0, 'draw': 0, 'early': 0, 'favorite': 0, 'federation': 1, 'female': 0, 'final': 1, 'first': 0, 'football': 0, 'for': 2, 'forâ': 0, 'from': 0, 'games': 0, 'gameâ': 0, 'gold': 0, 'golf': 3, 'group': 0, 'held': 0, 'her': 0, 'home': 0, 'in': 0, 'international': 1, 'it39s': 0, 'ivory': 0, 'janeiro': 0, 'japan': 1, 'jon': 1, 'just': 0, 'leaving': 1, 'luiz': 0, 'men': 0, 'men39s': 0, 'minute': 0, 'most': 0, 'night': 1, 'of': 2, 'off': 0, 'olympic': 1, 'on': 1, 'out': 1, 'part': 1, 'patrick': 1, 'player': 0, 'playing': 0, 'plays': 0, 'positive': 2, 'protocols': 1, 'rahmâ': 1, 'reedâ': 1, 'released': 1, 'replaced': 1, 'rio': 0, 'round': 0, 'sara': 0, 'saturday': 1, 'sent': 0, 'sets': 0, 'singles': 0, 'soil': 0, 'sorribes': 0, 'spain': 0, 'stage': 0, 'statements': 1, 'states': 1, 'straight': 0, 'stunning': 0, 'sunday': 0, 'team': 1, 'tennis': 0, 'tested': 2, 'testing': 1, 'the': 5, 'theâ': 0, 'to': 1, 'tokyo': 0, 'topranked': 0, 'tormo': 0, 'tournament': 1, 'two': 0, 'underdog': 0, 'united': 1, 'upset': 0, 'us': 1, 'usa': 1, 'villa': 0, 'was': 0, 'weeks': 0, 'were': 0, 'whenâ': 0, 'who': 0, 'will': 1, 'wimbledon': 0, 'win': 0, 'winning': 0, 'with': 0, 'women39s': 0, 'won': 0, 'world39s': 0, 'â€”': 0}\n",
      "\n"
     ]
    }
   ],
   "source": [
    "print(dictionarySoccer)\n",
    "print()\n",
    "print(dictionaryTennis)\n",
    "print()\n",
    "print(dictionaryGolf)\n",
    "print()"
   ]
  },
  {
   "cell_type": "code",
   "execution_count": 18,
   "metadata": {},
   "outputs": [],
   "source": [
    "NewNews = \"brazil against argentine\" \n",
    "NewNewsList= NewNews.split()\n",
    "\n",
    "#P(soccer | \"brazil\") =P(\"men\"|soccer)*P(soccer) / p(\"brazil\")\n",
    "#        here p(\"brazil\") = p(\"brazil\"|soccer)*p(soccer) +\n",
    "#                           p(\"brazil\"|tennis)*p(tennis) +\n",
    "#                           p(\"brazil\"|golf)*p(golf)\n",
    "\n",
    "#sum of all value in \n",
    "sumofSoccerValue=len(listSoccer)\n",
    "sumofTennisValue=len(listTennis)\n",
    "sumofGolfValue=len(listGolf)\n",
    "\n",
    "pp=1/3\n",
    "\n",
    "#get for handling keyerror\n",
    "for x in NewNewsList:\n",
    "    if NewNewsList.index(x)==0:\n",
    "        pargentinebysoccer=(dictionarySoccer.get(x,0)/sumofSoccerValue)\n",
    "        pargentinabyTennis=(dictionaryTennis.get(x,0)/sumofTennisValue)     \n",
    "        pargentinabyGolf=(dictionaryGolf.get(x,0)/sumofGolfValue)\n",
    "   \n",
    "    elif NewNewsList.index(x)==1:\n",
    "        pagainstbysoccer=(dictionarySoccer.get(x,0)/sumofSoccerValue)     \n",
    "        pagainstbyTennis=(dictionaryTennis.get(x,0)/sumofTennisValue)    \n",
    "        pagainstbybyGolf=(dictionaryGolf.get(x,0)/sumofGolfValue)\n",
    "     \n",
    "    else:\n",
    "        pbrazilbysoccer=(dictionarySoccer.get(x,0)/sumofSoccerValue)    \n",
    "        pbrazilbyTennis=(dictionaryTennis.get(x,0)/sumofTennisValue)     \n",
    "        pbrazilbyGolf=(dictionaryGolf.get(x,0)/sumofGolfValue)\n",
    "      \n"
   ]
  },
  {
   "cell_type": "code",
   "execution_count": 27,
   "metadata": {},
   "outputs": [
    {
     "name": "stdout",
     "output_type": "stream",
     "text": [
      "0.004694835680751174\n",
      "0.0\n",
      "0.0\n"
     ]
    }
   ],
   "source": [
    "PforArgentina=pargentinebysoccer*pp+pargentinabyTennis*pp+pargentinabyGolf*pp\n",
    "print(PforArgentina)\n",
    "#handle zerodivisionerror by if-else condition\n",
    "if PforArgentina == 0:\n",
    "    PsoccerByargentina= 0\n",
    "    PtennisByargentina= 0\n",
    "    PgolfByargentina= 0\n",
    "else: \n",
    "    PsoccerByargentina= (pargentinebysoccer*pp)/(PforArgentina)\n",
    "    PtennisByargentina= (pargentinabyTennis*pp)/(PforArgentina)\n",
    "    PgolfByargentina= (pargentinabyGolf*pp)/(PforArgentina)\n",
    "\n",
    "PforAgainst=pagainstbyTennis*pp+pagainstbybyGolf*pp+pagainstbysoccer*pp\n",
    "print(PforAgainst)\n",
    "\n",
    "if PforAgainst == 0:\n",
    "    PsoccerByagainst= 0\n",
    "    PtennisByagainst= 0\n",
    "    PgolfByagainst= 0\n",
    "else: \n",
    "    PsoccerByagainst= (pagainstbysoccer*pp)/(PforAgainst)\n",
    "    PtennisByagainst= (pagainstbyTennis*pp)/(PforAgainst)\n",
    "    PgolfByagainst= (pagainstbybyGolf*pp)/(PforAgainst)\n",
    "\n",
    "\n",
    "Pforbrazil=pbrazilbysoccer*pp+pbrazilbyTennis*pp+pbrazilbyGolf*pp\n",
    "print(Pforbrazil)\n",
    "\n",
    "if Pforbrazil == 0:\n",
    "    PsoccerBybrazil= 0\n",
    "    PtennisBybrazil= 0\n",
    "    PgolfBybrazil= 0\n",
    "else: \n",
    "    PsoccerBybrazil= (pbrazilbysoccer*pp)/(Pforbrazil)\n",
    "    PtennisBybrazil= (pbrazilbyTennis*pp)/(Pforbrazil)\n",
    "    PgolfBybrazil= (pbrazilbyGolf*pp)/(Pforbrazil)\n",
    "\n",
    "A=PsoccerByargentina*PsoccerByagainst*PsoccerBybrazil\n",
    "B=PtennisByargentina*PtennisByagainst*PtennisBybrazil\n",
    "C=PgolfByargentina*PgolfByagainst*PgolfBybrazil"
   ]
  },
  {
   "cell_type": "code",
   "execution_count": 28,
   "metadata": {},
   "outputs": [
    {
     "name": "stdout",
     "output_type": "stream",
     "text": [
      "the new News is a soccer news\n"
     ]
    }
   ],
   "source": [
    "if A==max(A,B,C):\n",
    "      print(\"the new News is a soccer news\")\n",
    "elif B==max(A,B,C):\n",
    "      print(\"the new News is a Tennis news\")\n",
    "else:\n",
    "      print(\"the new News is a Golf news\")\n"
   ]
  },
  {
   "cell_type": "code",
   "execution_count": null,
   "metadata": {},
   "outputs": [],
   "source": []
  }
 ],
 "metadata": {
  "kernelspec": {
   "display_name": "Python 3",
   "language": "python",
   "name": "python3"
  },
  "language_info": {
   "codemirror_mode": {
    "name": "ipython",
    "version": 3
   },
   "file_extension": ".py",
   "mimetype": "text/x-python",
   "name": "python",
   "nbconvert_exporter": "python",
   "pygments_lexer": "ipython3",
   "version": "3.7.3"
  }
 },
 "nbformat": 4,
 "nbformat_minor": 2
}
