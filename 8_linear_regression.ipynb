{
  "nbformat": 4,
  "nbformat_minor": 0,
  "metadata": {
    "colab": {
      "name": "8. linear regression",
      "provenance": [],
      "collapsed_sections": [],
      "authorship_tag": "ABX9TyMwTMJxyjgs1ffxdrfHglL2",
      "include_colab_link": true
    },
    "kernelspec": {
      "name": "python3",
      "display_name": "Python 3"
    },
    "language_info": {
      "name": "python"
    }
  },
  "cells": [
    {
      "cell_type": "markdown",
      "metadata": {
        "id": "view-in-github",
        "colab_type": "text"
      },
      "source": [
        "<a href=\"https://colab.research.google.com/github/mohammadeunus/MachineLearningAlgorithms-MLA/blob/main/8_linear_regression.ipynb\" target=\"_parent\"><img src=\"https://colab.research.google.com/assets/colab-badge.svg\" alt=\"Open In Colab\"/></a>"
      ]
    },
    {
      "cell_type": "code",
      "metadata": {
        "id": "FWinlyuPS9vi"
      },
      "source": [
        "import numpy as np\n",
        "import math\n",
        "from numpy import linalg as la\n",
        "from pylab import * \n",
        "\n",
        "x = np.array([0, 1, 2, 5, 9, 5, 6, 7, 8, 9])\n",
        "y = np.array([1, 3, 2, 5, 4, 8, 8, 9, 12, 12])\n"
      ],
      "execution_count": null,
      "outputs": []
    },
    {
      "cell_type": "code",
      "metadata": {
        "colab": {
          "base_uri": "https://localhost:8080/"
        },
        "id": "yNqhlsyQR0AQ",
        "outputId": "f96150b5-722a-4452-8f7e-77d00c10e353"
      },
      "source": [
        "def distanceCalculator(m,b,x1,y1):\n",
        "  return  (((((x1*m) + (m**2) -(y1))/ ((m**2)+1))**2) + (m*(y1-b-(x1*m))) /((((m**2) + 1))**2))\n",
        "\n",
        "BestFit= 110000\n",
        "mAns,bAans=0,0\n",
        "def sumDistanceCalculator(m,b):\n",
        "  global BestFit,mAns,bAans\n",
        "  #iterate all x,y\n",
        "  sum=0\n",
        "  for i in range(len(x)):\n",
        "    #find distance between x,y\n",
        "    #find +=sum distance\n",
        "    sum+= distanceCalculator(m,b,x[i],y[i])\n",
        "  #compare sum with bestFit\n",
        "  #if less than \n",
        "    #then assign BestFit\n",
        "    #bestfit_M_B assign\n",
        "  if (BestFit >= sum):\n",
        "    BestFit=sum\n",
        "    mAns,bAans=m,b\n",
        "\n",
        "\n",
        "\n",
        "#generate m,b and iterate with for loop\n",
        "for m in np.arange(-0.02,1.5,0.02):\n",
        "  sum=0\n",
        "  for b in np.arange(1.0,2.0,0.02):\n",
        "    #pass(m,b)\n",
        "    sumDistanceCalculator(m,b)\n",
        "\n",
        "print('the ans my code shows',mAns,bAans)  \n",
        "from pylab import * \n",
        "\n",
        "realM,realB = polyfit(x, y, 1) \n",
        "print('the real ans is',realM,realB)"
      ],
      "execution_count": null,
      "outputs": [
        {
          "output_type": "stream",
          "name": "stdout",
          "text": [
            "the ans my code shows 1.16 1.9800000000000009\n",
            "the real ans is 0.9435146443514644 1.4937238493723823\n"
          ]
        }
      ]
    },
    {
      "cell_type": "code",
      "metadata": {
        "colab": {
          "base_uri": "https://localhost:8080/",
          "height": 264
        },
        "id": "fFTza1exA46f",
        "outputId": "efac81d0-3c68-4ff7-9d7e-6e0b196db6cf"
      },
      "source": [
        "plot(x, y, 'yo', x, mAns*x+bAans, '--k') \n",
        "show() "
      ],
      "execution_count": null,
      "outputs": [
        {
          "output_type": "display_data",
          "data": {
            "image/png": "[encoded data removed]",
            "text/plain": [
              "<Figure size 432x288 with 1 Axes>"
            ]
          },
          "metadata": {
            "needs_background": "light"
          }
        }
      ]
    }
  ]
}