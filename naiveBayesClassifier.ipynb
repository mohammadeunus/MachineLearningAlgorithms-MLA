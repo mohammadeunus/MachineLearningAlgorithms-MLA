{
  "nbformat": 4,
  "nbformat_minor": 0,
  "metadata": {
    "colab": {
      "name": "Copy of frequency of words in sentence",
      "provenance": [],
      "collapsed_sections": []
    },
    "kernelspec": {
      "name": "python3",
      "display_name": "Python 3"
    },
    "language_info": {
      "name": "python"
    }
  },
  "cells": [
    {
      "cell_type": "code",
      "metadata": {
        "id": "sGoJ2M30VAo3"
      },
      "source": [
        "import string\n",
        "import numpy as np"
      ],
      "execution_count": null,
      "outputs": []
    },
    {
      "cell_type": "code",
      "metadata": {
        "id": "cCeQ0z0Jcsuf"
      },
      "source": [
        "#user input   \n",
        "#https://www.sportingnews.com/us/soccer/news/mens-olympic-soccer-quarterfinals-complete-schedule-knockout/1kyrr7htoumy81qlhhcr4qvgs3\n",
        "SentenceSoccer = (open(\"/content/drive/MyDrive/CSE/AI by abul hasan sir/soccer.txt\", \"r\")).read()\n",
        "#https://www.marca.com/en/olympic-games/2021/07/28/6101247c22601db74c8b4574.html\n",
        "SentenceTennis =(open(\"/content/drive/MyDrive/CSE/AI by abul hasan sir/tennis.txt\", \"r\")).read()\n",
        "#https://www.golfchannel.com/news/bryson-dechambeaus-former-caddie-opens-split-what-experience-was\n",
        "SentenceGolf =(open(\"/content/drive/MyDrive/CSE/AI by abul hasan sir/golf.txt\", \"r\")).read()\n",
        "\n"
      ],
      "execution_count": null,
      "outputs": []
    },
    {
      "cell_type": "code",
      "metadata": {
        "id": "ev6KQWJGnFgm"
      },
      "source": [
        "#first replace all the capital letter in user string with small letter than\n",
        "#strip punctions from the string and assign that string into the FinalSentence\n",
        "FinalSentenceSoccer = SentenceSoccer.lower()   \n",
        "FinalSentenceSoccer = FinalSentenceSoccer.translate(str.maketrans(' ', ' ', string.punctuation))\n",
        "\n",
        "FinalSentenceTennis = SentenceTennis.lower()   \n",
        "FinalSentenceTennis = FinalSentenceTennis.translate(str.maketrans(' ', ' ', string.punctuation))\n",
        "\n",
        "FinalSentenceGolf = SentenceGolf.lower()   \n",
        "FinalSentenceGolf =FinalSentenceGolf.translate(str.maketrans(' ', ' ', string.punctuation))\n",
        " \n",
        "# split all the word of the string in a new list listt\n",
        "listSoccer = FinalSentenceSoccer.split()\n",
        "listTennis = FinalSentenceTennis.split()\n",
        "listGolf = FinalSentenceGolf.split()\n",
        "\n",
        "allUniqueWord = np.unique(listSoccer+listTennis+listGolf)\n",
        "\n",
        "\n",
        "# Declare a dictionary\n",
        "dictionarySoccer = dict(zip(allUniqueWord,[0]*len(allUniqueWord)))\n",
        "dictionaryTennis = dict(zip(allUniqueWord,[0]*len(allUniqueWord)))\n",
        "dictionaryGolf = dict(zip(allUniqueWord,[0]*len(allUniqueWord)))"
      ],
      "execution_count": null,
      "outputs": []
    },
    {
      "cell_type": "code",
      "metadata": {
        "id": "0gA5tkqRcgIf",
        "colab": {
          "base_uri": "https://localhost:8080/"
        },
        "outputId": "01f8dd44-6514-4b8a-f3df-8b150baaa456"
      },
      "source": [
        "print(listSoccer)\n",
        "print()\n",
        "print(listTennis)\n",
        "print()\n",
        "print(listGolf)\n",
        "print()\n",
        "print('total number of word before unique implementation: ',len(listSoccer)+len(listTennis)+len(listGolf))\n",
        "print('total number of word after unique implementation: ',len(allUniqueWord))  "
      ],
      "execution_count": null,
      "outputs": [
        {
          "output_type": "stream",
          "text": [
            "['now', 'the', 'fun', 'really', 'begins', 'in', 'the', 'mens', 'olympic', 'soccer', 'tournament', 'the', 'knockout', 'round', 'bracket', 'is', 'set', 'and', 'every', 'region', 'in', 'the', 'world', 'is', 'represented', 'brazil', 'will', 'look', 'to', 'make', 'it', 'two', 'gold', 'medals', 'in', 'a', 'row', 'when', 'it', 'begins', 'the', 'knockout', 'rounds', 'against', 'egypt', 'should', 'it', 'survive', 'that', 'quarterfinal', 'brazil', 'would', 'meet', 'south', 'korea', 'or', 'mexico', 'in', 'the', 'semis', 'the', 'other', 'side', 'of', 'the', 'bracket', 'sees', 'the', 'winner', 'of', 'the', 'spain', 'vs', 'ivory', 'coast', 'quarterfinal', 'as', 'a', 'potential', 'medal', 'candidate', 'spain', 'earned', 'the', 'label', 'of', 'pretournament', 'favorite', 'and', 'it', 'features', 'several', 'players', 'from', 'the', 'senior', 'euro', 'semifinalist', 'squad', 'while', 'the', 'african', 'side', 'has', 'already', 'proven', 'its', 'mettle', 'in', 'groupstage', 'draws', 'against', 'germany', 'and', 'brazil', 'but', 'they', 'will', 'likely', 'have', 'to', 'face', 'host', 'japan', 'in', 'the', 'semis', 'to', 'reach', 'a', 'goldmedal', 'game']\n",
            "\n",
            "['daniil', 'medvedev', 'exploded', 'with', 'anger', 'as', 'he', 'took', 'on', 'italys', 'fabio', 'fognini', 'at', 'the', 'olympic', 'games', 'on', 'wednesday', 'claiming', 'that', 'the', 'umpire', 'would', 'be', 'responsible', 'if', 'he', 'were', 'to', 'die', 'due', 'to', 'the', 'conditions', 'tennis', 'stars', 'have', 'complained', 'about', 'the', 'conditions', 'theyve', 'had', 'to', 'play', 'in', 'this', 'summer', 'and', 'medvedev', 'was', 'struggling', 'a', 'lot', 'with', 'the', 'heat', 'and', 'humidity', 'on', 'wednesday', 'this', 'led', 'to', 'chair', 'umpire', 'carlos', 'ramos', 'asking', 'the', 'russian', 'if', 'he', 'could', 'continue', 'playing', 'i', 'can', 'finish', 'the', 'match', 'but', 'i', 'can', 'die', 'medvedev', 'replied', 'if', 'i', 'die', 'are', 'you', 'going', 'to', 'be', 'responsible', 'medvedev', 'went', 'on', 'to', 'claim', 'a', '62', '36', '62', 'win', 'argentine', 'diego', 'schwartzman', 'has', 'also', 'expressed', 'his', 'outrage', 'with', 'the', 'conditions', 'this', 'summer', 'its', 'difficult', 'to', 'play', 'like', 'this', 'schwartzman', 'said', 'i', 'dont', 'know', 'how', 'hot', 'itll', 'be', 'but', 'it', 'feels', 'like', '40', 'degrees', 'its', 'crazy', 'that', 'theyre', 'sending', 'us', 'to', 'play', 'at', 'midday', 'with', 'over', '40', 'degrees', 'of', 'heat']\n",
            "\n",
            "['in', 'a', 'wideranging', 'interview', 'during', 'golf’s', 'subpar', 'podcast', 'bryson', 'dechambeau’s', 'former', 'caddie', 'tim', 'tucker', 'opened', 'up', '–', 'briefly', '–', 'on', 'his', 'split', 'last', 'month', 'with', 'dechambeau', 'and', 'explained', 'what', 'it', 'was', 'like', 'looping', 'for', 'one', 'of', 'the', 'game’s', 'most', 'fascinating', 'talents', 'tucker', 'in', 'a', 'nearly', 'hourlong', 'conversation', 'with', 'hosts', 'colt', 'knost', 'and', 'drew', 'stoltz', 'said', 'that', 'he', 'regretted', 'leaving', 'the', 'bag', 'on', 'the', 'eve', 'of', 'the', 'rocket', 'mortgage', 'classic', 'but', 'added', 'there', 'isn’t', 'any', '“animosity”', 'between', 'the', 'two', '“i', 'made', 'a', 'big', 'mistake', 'in', 'my', 'timing', 'with', 'it”', 'tucker', 'said', 'of', 'the', 'split', '“it', 'shouldn’t', 'have', 'happened', 'that', 'way', 'we', 'should', 'have', 'finished', 'out', 'the', 'week', 'i', 'didn’t', 'mean', 'to', 'put', 'that', 'pressure', 'on', 'him', 'i’m', 'sure', 'he', 'had', 'a', 'lot', 'on', 'his', 'mind', 'to', 'play', 'in', 'the', 'rocket', 'mortgage', 'i', 'regret', 'how', 'that', 'all', 'went', 'down”', 'scrambling', 'on', 'the', 'eve', 'of', 'his', 'title', 'defense', 'in', 'detroit', 'dechambeau', 'added', 'cobra’s', 'ben', 'schomin', 'to', 'the', 'bag', 'but', 'missed', 'the', 'cut', 'prior', 'to', 'the', 'open', 'he', 'announced', 'that', 'he', 'would', 'team', 'up', 'with', 'brian', 'zeigler', 'a', 'dallasbased', 'swing', 'coach', 'who', 'is', 'one', 'of', 'the', 'country’s', 'top', 'young', 'instructors', 'they', 'tied', 'for', '33rd', 'at', 'royal', 'st', 'george’s', 'in', 'their', 'first', 'appearance', 'togeth']\n",
            "\n",
            "total number of word before unique implementation:  487\n",
            "total number of word after unique implementation:  282\n"
          ],
          "name": "stdout"
        }
      ]
    },
    {
      "cell_type": "code",
      "metadata": {
        "id": "3WNDmDHq3KO_"
      },
      "source": [
        "for elements in listSoccer:\n",
        "  # if there exists a key as \"elements\" then simply\n",
        "    # increase its value.\n",
        "    if elements in dictionarySoccer:\n",
        "        dictionarySoccer[elements] += 1\n",
        "for elements in listTennis:\n",
        "  # if there exists a key as \"elements\" then simply\n",
        "    # increase its value.\n",
        "    if elements in dictionaryTennis:\n",
        "        dictionaryTennis[elements] += 1\n",
        "\n",
        "for elements in listGolf:\n",
        "  # if there exists a key as \"elements\" then simply\n",
        "    # increase its value.\n",
        "    if elements in dictionaryGolf:\n",
        "        dictionaryGolf[elements] += 1"
      ],
      "execution_count": null,
      "outputs": []
    },
    {
      "cell_type": "code",
      "metadata": {
        "colab": {
          "base_uri": "https://localhost:8080/"
        },
        "id": "P2WwUUOF4prO",
        "outputId": "cb95a4c0-5c56-427c-8543-6acd271494e0"
      },
      "source": [
        "print(dictionarySoccer)\n",
        "print()\n",
        "print(dictionaryTennis)\n",
        "print()\n",
        "print(dictionaryGolf)\n",
        "print()"
      ],
      "execution_count": null,
      "outputs": [
        {
          "output_type": "stream",
          "text": [
            "{'33rd': 0, '36': 0, '40': 0, '62': 0, 'a': 3, 'about': 0, 'added': 0, 'african': 1, 'against': 2, 'all': 0, 'already': 1, 'also': 0, 'and': 3, 'anger': 0, 'announced': 0, 'any': 0, 'appearance': 0, 'are': 0, 'argentine': 0, 'as': 1, 'asking': 0, 'at': 0, 'bag': 0, 'be': 0, 'begins': 2, 'ben': 0, 'between': 0, 'big': 0, 'bracket': 2, 'brazil': 3, 'brian': 0, 'briefly': 0, 'bryson': 0, 'but': 1, 'caddie': 0, 'can': 0, 'candidate': 1, 'carlos': 0, 'chair': 0, 'claim': 0, 'claiming': 0, 'classic': 0, 'coach': 0, 'coast': 1, 'cobra’s': 0, 'colt': 0, 'complained': 0, 'conditions': 0, 'continue': 0, 'conversation': 0, 'could': 0, 'country’s': 0, 'crazy': 0, 'cut': 0, 'dallasbased': 0, 'daniil': 0, 'dechambeau': 0, 'dechambeau’s': 0, 'defense': 0, 'degrees': 0, 'detroit': 0, 'didn’t': 0, 'die': 0, 'diego': 0, 'difficult': 0, 'dont': 0, 'down”': 0, 'draws': 1, 'drew': 0, 'due': 0, 'during': 0, 'earned': 1, 'egypt': 1, 'euro': 1, 'eve': 0, 'every': 1, 'explained': 0, 'exploded': 0, 'expressed': 0, 'fabio': 0, 'face': 1, 'fascinating': 0, 'favorite': 1, 'features': 1, 'feels': 0, 'finish': 0, 'finished': 0, 'first': 0, 'fognini': 0, 'for': 0, 'former': 0, 'from': 1, 'fun': 1, 'game': 1, 'games': 0, 'game’s': 0, 'george’s': 0, 'germany': 1, 'going': 0, 'gold': 1, 'goldmedal': 1, 'golf’s': 0, 'groupstage': 1, 'had': 0, 'happened': 0, 'has': 1, 'have': 1, 'he': 0, 'heat': 0, 'him': 0, 'his': 0, 'host': 1, 'hosts': 0, 'hot': 0, 'hourlong': 0, 'how': 0, 'humidity': 0, 'i': 0, 'if': 0, 'in': 6, 'instructors': 0, 'interview': 0, 'is': 2, 'isn’t': 0, 'it': 4, 'italys': 0, 'itll': 0, 'its': 1, 'it”': 0, 'ivory': 1, 'i’m': 0, 'japan': 1, 'knockout': 2, 'knost': 0, 'know': 0, 'korea': 1, 'label': 1, 'last': 0, 'leaving': 0, 'led': 0, 'like': 0, 'likely': 1, 'look': 1, 'looping': 0, 'lot': 0, 'made': 0, 'make': 1, 'match': 0, 'mean': 0, 'medal': 1, 'medals': 1, 'medvedev': 0, 'meet': 1, 'mens': 1, 'mettle': 1, 'mexico': 1, 'midday': 0, 'mind': 0, 'missed': 0, 'mistake': 0, 'month': 0, 'mortgage': 0, 'most': 0, 'my': 0, 'nearly': 0, 'now': 1, 'of': 3, 'olympic': 1, 'on': 0, 'one': 0, 'open': 0, 'opened': 0, 'or': 1, 'other': 1, 'out': 0, 'outrage': 0, 'over': 0, 'play': 0, 'players': 1, 'playing': 0, 'podcast': 0, 'potential': 1, 'pressure': 0, 'pretournament': 1, 'prior': 0, 'proven': 1, 'put': 0, 'quarterfinal': 2, 'ramos': 0, 'reach': 1, 'really': 1, 'region': 1, 'regret': 0, 'regretted': 0, 'replied': 0, 'represented': 1, 'responsible': 0, 'rocket': 0, 'round': 1, 'rounds': 1, 'row': 1, 'royal': 0, 'russian': 0, 'said': 0, 'schomin': 0, 'schwartzman': 0, 'scrambling': 0, 'sees': 1, 'semifinalist': 1, 'semis': 2, 'sending': 0, 'senior': 1, 'set': 1, 'several': 1, 'should': 1, 'shouldn’t': 0, 'side': 2, 'soccer': 1, 'south': 1, 'spain': 2, 'split': 0, 'squad': 1, 'st': 0, 'stars': 0, 'stoltz': 0, 'struggling': 0, 'subpar': 0, 'summer': 0, 'sure': 0, 'survive': 1, 'swing': 0, 'talents': 0, 'team': 0, 'tennis': 0, 'that': 1, 'the': 14, 'their': 0, 'there': 0, 'they': 1, 'theyre': 0, 'theyve': 0, 'this': 0, 'tied': 0, 'tim': 0, 'timing': 0, 'title': 0, 'to': 3, 'togeth': 0, 'took': 0, 'top': 0, 'tournament': 1, 'tucker': 0, 'two': 1, 'umpire': 0, 'up': 0, 'us': 0, 'vs': 1, 'was': 0, 'way': 0, 'we': 0, 'wednesday': 0, 'week': 0, 'went': 0, 'were': 0, 'what': 0, 'when': 1, 'while': 1, 'who': 0, 'wideranging': 0, 'will': 2, 'win': 0, 'winner': 1, 'with': 0, 'world': 1, 'would': 1, 'you': 0, 'young': 0, 'zeigler': 0, '–': 0, '“animosity”': 0, '“i': 0, '“it': 0}\n",
            "\n",
            "{'33rd': 0, '36': 1, '40': 2, '62': 2, 'a': 2, 'about': 1, 'added': 0, 'african': 0, 'against': 0, 'all': 0, 'already': 0, 'also': 1, 'and': 2, 'anger': 1, 'announced': 0, 'any': 0, 'appearance': 0, 'are': 1, 'argentine': 1, 'as': 1, 'asking': 1, 'at': 2, 'bag': 0, 'be': 3, 'begins': 0, 'ben': 0, 'between': 0, 'big': 0, 'bracket': 0, 'brazil': 0, 'brian': 0, 'briefly': 0, 'bryson': 0, 'but': 2, 'caddie': 0, 'can': 2, 'candidate': 0, 'carlos': 1, 'chair': 1, 'claim': 1, 'claiming': 1, 'classic': 0, 'coach': 0, 'coast': 0, 'cobra’s': 0, 'colt': 0, 'complained': 1, 'conditions': 3, 'continue': 1, 'conversation': 0, 'could': 1, 'country’s': 0, 'crazy': 1, 'cut': 0, 'dallasbased': 0, 'daniil': 1, 'dechambeau': 0, 'dechambeau’s': 0, 'defense': 0, 'degrees': 2, 'detroit': 0, 'didn’t': 0, 'die': 3, 'diego': 1, 'difficult': 1, 'dont': 1, 'down”': 0, 'draws': 0, 'drew': 0, 'due': 1, 'during': 0, 'earned': 0, 'egypt': 0, 'euro': 0, 'eve': 0, 'every': 0, 'explained': 0, 'exploded': 1, 'expressed': 1, 'fabio': 1, 'face': 0, 'fascinating': 0, 'favorite': 0, 'features': 0, 'feels': 1, 'finish': 1, 'finished': 0, 'first': 0, 'fognini': 1, 'for': 0, 'former': 0, 'from': 0, 'fun': 0, 'game': 0, 'games': 1, 'game’s': 0, 'george’s': 0, 'germany': 0, 'going': 1, 'gold': 0, 'goldmedal': 0, 'golf’s': 0, 'groupstage': 0, 'had': 1, 'happened': 0, 'has': 1, 'have': 1, 'he': 3, 'heat': 2, 'him': 0, 'his': 1, 'host': 0, 'hosts': 0, 'hot': 1, 'hourlong': 0, 'how': 1, 'humidity': 1, 'i': 4, 'if': 3, 'in': 1, 'instructors': 0, 'interview': 0, 'is': 0, 'isn’t': 0, 'it': 1, 'italys': 1, 'itll': 1, 'its': 2, 'it”': 0, 'ivory': 0, 'i’m': 0, 'japan': 0, 'knockout': 0, 'knost': 0, 'know': 1, 'korea': 0, 'label': 0, 'last': 0, 'leaving': 0, 'led': 1, 'like': 2, 'likely': 0, 'look': 0, 'looping': 0, 'lot': 1, 'made': 0, 'make': 0, 'match': 1, 'mean': 0, 'medal': 0, 'medals': 0, 'medvedev': 4, 'meet': 0, 'mens': 0, 'mettle': 0, 'mexico': 0, 'midday': 1, 'mind': 0, 'missed': 0, 'mistake': 0, 'month': 0, 'mortgage': 0, 'most': 0, 'my': 0, 'nearly': 0, 'now': 0, 'of': 1, 'olympic': 1, 'on': 4, 'one': 0, 'open': 0, 'opened': 0, 'or': 0, 'other': 0, 'out': 0, 'outrage': 1, 'over': 1, 'play': 3, 'players': 0, 'playing': 1, 'podcast': 0, 'potential': 0, 'pressure': 0, 'pretournament': 0, 'prior': 0, 'proven': 0, 'put': 0, 'quarterfinal': 0, 'ramos': 1, 'reach': 0, 'really': 0, 'region': 0, 'regret': 0, 'regretted': 0, 'replied': 1, 'represented': 0, 'responsible': 2, 'rocket': 0, 'round': 0, 'rounds': 0, 'row': 0, 'royal': 0, 'russian': 1, 'said': 1, 'schomin': 0, 'schwartzman': 2, 'scrambling': 0, 'sees': 0, 'semifinalist': 0, 'semis': 0, 'sending': 1, 'senior': 0, 'set': 0, 'several': 0, 'should': 0, 'shouldn’t': 0, 'side': 0, 'soccer': 0, 'south': 0, 'spain': 0, 'split': 0, 'squad': 0, 'st': 0, 'stars': 1, 'stoltz': 0, 'struggling': 1, 'subpar': 0, 'summer': 2, 'sure': 0, 'survive': 0, 'swing': 0, 'talents': 0, 'team': 0, 'tennis': 1, 'that': 2, 'the': 8, 'their': 0, 'there': 0, 'they': 0, 'theyre': 1, 'theyve': 1, 'this': 4, 'tied': 0, 'tim': 0, 'timing': 0, 'title': 0, 'to': 8, 'togeth': 0, 'took': 1, 'top': 0, 'tournament': 0, 'tucker': 0, 'two': 0, 'umpire': 2, 'up': 0, 'us': 1, 'vs': 0, 'was': 1, 'way': 0, 'we': 0, 'wednesday': 2, 'week': 0, 'went': 1, 'were': 1, 'what': 0, 'when': 0, 'while': 0, 'who': 0, 'wideranging': 0, 'will': 0, 'win': 1, 'winner': 0, 'with': 4, 'world': 0, 'would': 1, 'you': 1, 'young': 0, 'zeigler': 0, '–': 0, '“animosity”': 0, '“i': 0, '“it': 0}\n",
            "\n",
            "{'33rd': 1, '36': 0, '40': 0, '62': 0, 'a': 5, 'about': 0, 'added': 2, 'african': 0, 'against': 0, 'all': 1, 'already': 0, 'also': 0, 'and': 2, 'anger': 0, 'announced': 1, 'any': 1, 'appearance': 1, 'are': 0, 'argentine': 0, 'as': 0, 'asking': 0, 'at': 1, 'bag': 2, 'be': 0, 'begins': 0, 'ben': 1, 'between': 1, 'big': 1, 'bracket': 0, 'brazil': 0, 'brian': 1, 'briefly': 1, 'bryson': 1, 'but': 2, 'caddie': 1, 'can': 0, 'candidate': 0, 'carlos': 0, 'chair': 0, 'claim': 0, 'claiming': 0, 'classic': 1, 'coach': 1, 'coast': 0, 'cobra’s': 1, 'colt': 1, 'complained': 0, 'conditions': 0, 'continue': 0, 'conversation': 1, 'could': 0, 'country’s': 1, 'crazy': 0, 'cut': 1, 'dallasbased': 1, 'daniil': 0, 'dechambeau': 2, 'dechambeau’s': 1, 'defense': 1, 'degrees': 0, 'detroit': 1, 'didn’t': 1, 'die': 0, 'diego': 0, 'difficult': 0, 'dont': 0, 'down”': 1, 'draws': 0, 'drew': 1, 'due': 0, 'during': 1, 'earned': 0, 'egypt': 0, 'euro': 0, 'eve': 2, 'every': 0, 'explained': 1, 'exploded': 0, 'expressed': 0, 'fabio': 0, 'face': 0, 'fascinating': 1, 'favorite': 0, 'features': 0, 'feels': 0, 'finish': 0, 'finished': 1, 'first': 1, 'fognini': 0, 'for': 2, 'former': 1, 'from': 0, 'fun': 0, 'game': 0, 'games': 0, 'game’s': 1, 'george’s': 1, 'germany': 0, 'going': 0, 'gold': 0, 'goldmedal': 0, 'golf’s': 1, 'groupstage': 0, 'had': 1, 'happened': 1, 'has': 0, 'have': 2, 'he': 4, 'heat': 0, 'him': 1, 'his': 3, 'host': 0, 'hosts': 1, 'hot': 0, 'hourlong': 1, 'how': 1, 'humidity': 0, 'i': 2, 'if': 0, 'in': 6, 'instructors': 1, 'interview': 1, 'is': 1, 'isn’t': 1, 'it': 1, 'italys': 0, 'itll': 0, 'its': 0, 'it”': 1, 'ivory': 0, 'i’m': 1, 'japan': 0, 'knockout': 0, 'knost': 1, 'know': 0, 'korea': 0, 'label': 0, 'last': 1, 'leaving': 1, 'led': 0, 'like': 1, 'likely': 0, 'look': 0, 'looping': 1, 'lot': 1, 'made': 1, 'make': 0, 'match': 0, 'mean': 1, 'medal': 0, 'medals': 0, 'medvedev': 0, 'meet': 0, 'mens': 0, 'mettle': 0, 'mexico': 0, 'midday': 0, 'mind': 1, 'missed': 1, 'mistake': 1, 'month': 1, 'mortgage': 2, 'most': 1, 'my': 1, 'nearly': 1, 'now': 0, 'of': 5, 'olympic': 0, 'on': 5, 'one': 2, 'open': 1, 'opened': 1, 'or': 0, 'other': 0, 'out': 1, 'outrage': 0, 'over': 0, 'play': 1, 'players': 0, 'playing': 0, 'podcast': 1, 'potential': 0, 'pressure': 1, 'pretournament': 0, 'prior': 1, 'proven': 0, 'put': 1, 'quarterfinal': 0, 'ramos': 0, 'reach': 0, 'really': 0, 'region': 0, 'regret': 1, 'regretted': 1, 'replied': 0, 'represented': 0, 'responsible': 0, 'rocket': 2, 'round': 0, 'rounds': 0, 'row': 0, 'royal': 1, 'russian': 0, 'said': 2, 'schomin': 1, 'schwartzman': 0, 'scrambling': 1, 'sees': 0, 'semifinalist': 0, 'semis': 0, 'sending': 0, 'senior': 0, 'set': 0, 'several': 0, 'should': 1, 'shouldn’t': 1, 'side': 0, 'soccer': 0, 'south': 0, 'spain': 0, 'split': 2, 'squad': 0, 'st': 1, 'stars': 0, 'stoltz': 1, 'struggling': 0, 'subpar': 1, 'summer': 0, 'sure': 1, 'survive': 0, 'swing': 1, 'talents': 1, 'team': 1, 'tennis': 0, 'that': 5, 'the': 13, 'their': 1, 'there': 1, 'they': 1, 'theyre': 0, 'theyve': 0, 'this': 0, 'tied': 1, 'tim': 1, 'timing': 1, 'title': 1, 'to': 4, 'togeth': 1, 'took': 0, 'top': 1, 'tournament': 0, 'tucker': 3, 'two': 1, 'umpire': 0, 'up': 2, 'us': 0, 'vs': 0, 'was': 1, 'way': 1, 'we': 1, 'wednesday': 0, 'week': 1, 'went': 1, 'were': 0, 'what': 1, 'when': 0, 'while': 0, 'who': 1, 'wideranging': 1, 'will': 0, 'win': 0, 'winner': 0, 'with': 4, 'world': 0, 'would': 1, 'you': 0, 'young': 1, 'zeigler': 1, '–': 2, '“animosity”': 1, '“i': 1, '“it': 1}\n",
            "\n"
          ],
          "name": "stdout"
        }
      ]
    },
    {
      "cell_type": "markdown",
      "metadata": {
        "id": "3HJzcEJG8171"
      },
      "source": [
        "the **naive bayes classifier **\n",
        "\n",
        "---\n",
        "\n"
      ]
    },
    {
      "cell_type": "code",
      "metadata": {
        "id": "nd63SoMI80NX"
      },
      "source": [
        "NewNews = \"brazil against argentine\" \n",
        "NewNewsList= NewNews.split()\n",
        " \n",
        "\n",
        "#P(soccer | \"brazil\") =P(\"men\"|soccer)*P(soccer) / p(\"brazil\")\n",
        "#        here p(\"brazil\") = p(\"brazil\"|soccer)*p(soccer) +\n",
        "#                           p(\"brazil\"|tennis)*p(tennis) +\n",
        "#                           p(\"brazil\"|golf)*p(golf)\n",
        "\n",
        "#sum of all value in \n",
        "sumofSoccerValue=len(listSoccer)\n",
        "sumofTennisValue=len(listTennis)\n",
        "sumofGolfValue=len(listGolf)\n",
        "\n",
        "pp=1/3\n",
        "\n",
        "for x in NewNewsList:\n",
        "  if NewNewsList.index(x)==0:\n",
        "    pargentinebysoccer=(dictionarySoccer[x]/sumofSoccerValue)\n",
        "    pargentinabyTennis=(dictionaryTennis[x]/sumofTennisValue)     \n",
        "    pargentinabyGolf=(dictionaryGolf[x]/sumofGolfValue)\n",
        "   \n",
        "  elif NewNewsList.index(x)==1:\n",
        "    pagainstbysoccer=(dictionarySoccer[x]/sumofSoccerValue)     \n",
        "    pagainstbyTennis=(dictionaryTennis[x]/sumofTennisValue)    \n",
        "    pagainstbybyGolf=(dictionaryGolf[x]/sumofGolfValue)\n",
        "     \n",
        "  else:\n",
        "    pbrazilbysoccer=(dictionarySoccer[x]/sumofSoccerValue)    \n",
        "    pbrazilbyTennis=(dictionaryTennis[x]/sumofTennisValue)     \n",
        "    pbrazilbyGolf=(dictionaryGolf[x]/sumofGolfValue)\n",
        "      \n"
      ],
      "execution_count": null,
      "outputs": []
    },
    {
      "cell_type": "code",
      "metadata": {
        "colab": {
          "base_uri": "https://localhost:8080/",
          "height": 240
        },
        "id": "uw3W7h-9GLTb",
        "outputId": "afda3ce7-dcbd-4d6e-bac3-494df2856052"
      },
      "source": [
        "PforArgentina=pargentinabyTennis*pp+pargentinabyGolf*pp\n",
        "print(PforArgentina)\n",
        "PsoccerByargentina= (pargentinebysoccer*pp)/(PforArgentina)\n",
        "PtennisByargentina= (pargentinabyTennis*pp)/(PforArgentina)\n",
        "PgolfByargentina= (pargentinabyGolf*pp)/(PforArgentina)\n",
        "\n",
        "PforAgainst=pagainstbyTennis*pp+pagainstbybyGolf*pp+pagainstbysoccer*pp\n",
        "PsoccerByagainst= (pagainstbysoccer*pp)/(PforAgainst)\n",
        "PtennisByagainst= (pagainstbyTennis*pp)/(PforAgainst)\n",
        "PgolfByagainst= (pagainstbybyGolf*pp)/(PforAgainst)\n",
        "\n",
        "Pforbrazil=pbrazilbysoccer*pp+pbrazilbyTennis*pp+pbrazilbyGolf*pp\n",
        "PsoccerBybrazil= (pbrazilbysoccer*pp)/(Pforbrazil)\n",
        "PtennisBybrazil= (pbrazilbyTennis*pp)/(Pforbrazil)\n",
        "PgolfBybrazil= (pbrazilbyGolf*pp)/(Pforbrazil)\n",
        "\n",
        "A=PsoccerByargentina*PsoccerByagainst*PsoccerBybrazil\n",
        "B=PtennisByargentina*PtennisByagainst*PtennisBybrazil\n",
        "C=PgolfByargentina*PgolfByagainst*PgolfBybrazil"
      ],
      "execution_count": null,
      "outputs": [
        {
          "output_type": "stream",
          "text": [
            "0.0\n"
          ],
          "name": "stdout"
        },
        {
          "output_type": "error",
          "ename": "ZeroDivisionError",
          "evalue": "ignored",
          "traceback": [
            "\u001b[0;31m---------------------------------------------------------------------------\u001b[0m",
            "\u001b[0;31mZeroDivisionError\u001b[0m                         Traceback (most recent call last)",
            "\u001b[0;32m<ipython-input-154-3181523af4f1>\u001b[0m in \u001b[0;36m<module>\u001b[0;34m()\u001b[0m\n\u001b[1;32m      1\u001b[0m \u001b[0mPforArgentina\u001b[0m\u001b[0;34m=\u001b[0m\u001b[0mpargentinabyTennis\u001b[0m\u001b[0;34m*\u001b[0m\u001b[0mpp\u001b[0m\u001b[0;34m+\u001b[0m\u001b[0mpargentinabyGolf\u001b[0m\u001b[0;34m*\u001b[0m\u001b[0mpp\u001b[0m\u001b[0;34m\u001b[0m\u001b[0;34m\u001b[0m\u001b[0m\n\u001b[1;32m      2\u001b[0m \u001b[0mprint\u001b[0m\u001b[0;34m(\u001b[0m\u001b[0mPforArgentina\u001b[0m\u001b[0;34m)\u001b[0m\u001b[0;34m\u001b[0m\u001b[0;34m\u001b[0m\u001b[0m\n\u001b[0;32m----> 3\u001b[0;31m \u001b[0mPsoccerByargentina\u001b[0m\u001b[0;34m=\u001b[0m \u001b[0;34m(\u001b[0m\u001b[0mpargentinebysoccer\u001b[0m\u001b[0;34m*\u001b[0m\u001b[0mpp\u001b[0m\u001b[0;34m)\u001b[0m\u001b[0;34m/\u001b[0m\u001b[0;34m(\u001b[0m\u001b[0mPforArgentina\u001b[0m\u001b[0;34m)\u001b[0m\u001b[0;34m\u001b[0m\u001b[0;34m\u001b[0m\u001b[0m\n\u001b[0m\u001b[1;32m      4\u001b[0m \u001b[0mPtennisByargentina\u001b[0m\u001b[0;34m=\u001b[0m \u001b[0;34m(\u001b[0m\u001b[0mpargentinabyTennis\u001b[0m\u001b[0;34m*\u001b[0m\u001b[0mpp\u001b[0m\u001b[0;34m)\u001b[0m\u001b[0;34m/\u001b[0m\u001b[0;34m(\u001b[0m\u001b[0mPforArgentina\u001b[0m\u001b[0;34m)\u001b[0m\u001b[0;34m\u001b[0m\u001b[0;34m\u001b[0m\u001b[0m\n\u001b[1;32m      5\u001b[0m \u001b[0mPgolfByargentina\u001b[0m\u001b[0;34m=\u001b[0m \u001b[0;34m(\u001b[0m\u001b[0mpargentinabyGolf\u001b[0m\u001b[0;34m*\u001b[0m\u001b[0mpp\u001b[0m\u001b[0;34m)\u001b[0m\u001b[0;34m/\u001b[0m\u001b[0;34m(\u001b[0m\u001b[0mPforArgentina\u001b[0m\u001b[0;34m)\u001b[0m\u001b[0;34m\u001b[0m\u001b[0;34m\u001b[0m\u001b[0m\n",
            "\u001b[0;31mZeroDivisionError\u001b[0m: float division by zero"
          ]
        }
      ]
    },
    {
      "cell_type": "code",
      "metadata": {
        "id": "5sLJ1wx-d7It"
      },
      "source": [
        "if A==max(A,B,C):\n",
        "  print(\"the new News is a soccer news\")\n",
        "elif B==max(A,B,C):\n",
        "  print(\"the new News is a Tennis news\")\n",
        "else:\n",
        "  print(\"the new News is a Golf news\")\n"
      ],
      "execution_count": null,
      "outputs": []
    }
  ]
}