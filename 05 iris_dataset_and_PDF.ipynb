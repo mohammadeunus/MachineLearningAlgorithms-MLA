{
  "nbformat": 4,
  "nbformat_minor": 0,
  "metadata": {
    "colab": {
      "name": "06. iris dataset and PDF.ipynb",
      "provenance": [],
      "collapsed_sections": [],
      "authorship_tag": "ABX9TyNQ9zLWdpk48BJ18VzvuIgZ",
      "include_colab_link": true
    },
    "kernelspec": {
      "name": "python3",
      "display_name": "Python 3"
    },
    "language_info": {
      "name": "python"
    }
  },
  "cells": [
    {
      "cell_type": "markdown",
      "metadata": {
        "id": "view-in-github",
        "colab_type": "text"
      },
      "source": [
        "<a href=\"https://colab.research.google.com/github/mohammadeunus/MachineLearningAlgorithms-MLA/blob/main/05%20iris_dataset_and_PDF.ipynb\" target=\"_parent\"><img src=\"https://colab.research.google.com/assets/colab-badge.svg\" alt=\"Open In Colab\"/></a>"
      ]
    },
    {
      "cell_type": "code",
      "metadata": {
        "id": "00HhOodv49sz"
      },
      "source": [
        "# import libraries\n",
        "import numpy as np\n",
        "import pandas as pd\n",
        "from sklearn import datasets\n",
        "from sklearn.model_selection import train_test_split\n",
        "from sklearn.metrics import accuracy_score"
      ],
      "execution_count": 129,
      "outputs": []
    },
    {
      "cell_type": "code",
      "metadata": {
        "colab": {
          "base_uri": "https://localhost:8080/"
        },
        "id": "c2J2tvRBDQg1",
        "outputId": "7e538206-35aa-4ebf-e7f0-394dfb7a5e0f"
      },
      "source": [
        "# load dataset and split the features and class lables\n",
        "\n",
        "iris = datasets.load_iris()\n",
        "\n",
        "x= pd.DataFrame(iris.data, columns=['Sepal Length', 'Sepal Width', 'Petal Length', 'Petal Width']) \n",
        "y=iris.target # 0  is setosa, 1 is  versica and 2 is vergenica\n",
        "\n",
        "print(x['Sepal Length'])"
      ],
      "execution_count": 130,
      "outputs": [
        {
          "output_type": "stream",
          "text": [
            "0      5.1\n",
            "1      4.9\n",
            "2      4.7\n",
            "3      4.6\n",
            "4      5.0\n",
            "      ... \n",
            "145    6.7\n",
            "146    6.3\n",
            "147    6.5\n",
            "148    6.2\n",
            "149    5.9\n",
            "Name: Sepal Length, Length: 150, dtype: float64\n"
          ],
          "name": "stdout"
        }
      ]
    },
    {
      "cell_type": "code",
      "metadata": {
        "id": "Ka8rB8ItPEug"
      },
      "source": [
        "#use 60% data of satosa(first 50 data) for x_train_setosa and the rest for x_test_setosa\n",
        "x_train_setosa,x_test_setosa,y_train_setosa,y_test_setosa=train_test_split(x['Sepal Length'][:50],y[:50],test_size=0.4)\n",
        "\n",
        "#mean and standard deviation calculation\n",
        "x_train_setosa_mean=x_train_setosa.mean()\n",
        "x_train_setosa_std=x_train_setosa.std()"
      ],
      "execution_count": 131,
      "outputs": []
    },
    {
      "cell_type": "code",
      "metadata": {
        "colab": {
          "base_uri": "https://localhost:8080/"
        },
        "id": "9DwoTrNSTYal",
        "outputId": "9d301937-a267-49d7-9e4d-25fdbeb1fee7"
      },
      "source": [
        "#assuming 5% of the data as outlier\n",
        "minimum=x_train_setosa_mean-2*x_train_setosa_std                                #2standard deviation                     \n",
        "maximum=x_train_setosa_mean+2*x_train_setosa_std                                #2standard deviation\n",
        "print(minimum,maximum)\n",
        "\n",
        "#calculate the shape of test dataset of setosa (for accuracy calculation)  \n",
        "shapeOf_x_test_setosa=x_test_setosa.shape[0] \n",
        "shapeOf_x_test_setosa"
      ],
      "execution_count": 132,
      "outputs": [
        {
          "output_type": "stream",
          "text": [
            "4.260941885538273 5.739058114461727\n"
          ],
          "name": "stdout"
        },
        {
          "output_type": "execute_result",
          "data": {
            "text/plain": [
              "20"
            ]
          },
          "metadata": {},
          "execution_count": 132
        }
      ]
    },
    {
      "cell_type": "code",
      "metadata": {
        "colab": {
          "base_uri": "https://localhost:8080/"
        },
        "id": "a0d4zoMkq7q7",
        "outputId": "f6708d30-64e8-4e91-f75d-d73489b7acdb"
      },
      "source": [
        "#assign the data which fits the model of x_train_setosa's normal distribution\n",
        "df = x_test_setosa.to_frame()\n",
        "no_oulier= df[(df.values>minimum) & (df.values<maximum)]\n",
        "\n",
        "#calculate the shape of final result(for accuracy calculation)\n",
        "shapeOf_no_oulier=no_oulier.shape[0]\n",
        "print(shapeOf_no_oulier)"
      ],
      "execution_count": 133,
      "outputs": [
        {
          "output_type": "stream",
          "text": [
            "19\n"
          ],
          "name": "stdout"
        }
      ]
    },
    {
      "cell_type": "code",
      "metadata": {
        "colab": {
          "base_uri": "https://localhost:8080/"
        },
        "id": "M_61IwzBwHF6",
        "outputId": "0f1101b2-56bd-489b-cdaa-d500ebdff15a"
      },
      "source": [
        "#calculate the accuracy in percentage\n",
        "ans=shapeOf_no_oulier/shapeOf_x_train_setosa*100\n",
        "print('accuracy is: ',ans,'%')    #the accuracy is calculated based on 2 standard deviation, because for 2 and for 3 the accuracy was showing 100percent"
      ],
      "execution_count": 134,
      "outputs": [
        {
          "output_type": "stream",
          "text": [
            "accuracy is:  95.0 %\n"
          ],
          "name": "stdout"
        }
      ]
    }
  ]
}